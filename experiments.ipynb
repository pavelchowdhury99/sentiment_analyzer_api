{
 "cells": [
  {
   "cell_type": "code",
   "execution_count": null,
   "source": [
    "from flask import Flask, jsonify, request\r\n",
    "from datetime import datetime\r\n",
    "from nltk.sentiment import SentimentAnalyzer, SentimentIntensityAnalyzer\r\n",
    "import pandas as pd\r\n",
    "import numpy as np\r\n",
    "import nltk"
   ],
   "outputs": [],
   "metadata": {}
  },
  {
   "cell_type": "code",
   "execution_count": null,
   "source": [
    "sia = SentimentIntensityAnalyzer()\r\n",
    "sia.polarity_scores(\"Wow, NLTK is really powerful!\")"
   ],
   "outputs": [],
   "metadata": {}
  },
  {
   "cell_type": "code",
   "execution_count": 28,
   "source": [
    "def get_sentiment_and_scores(text:str) ->dict:\r\n",
    "    # get sentiments from ntlk\r\n",
    "    sia = SentimentIntensityAnalyzer()\r\n",
    "    scores = sia.polarity_scores(text)\r\n",
    "    # dict now maintains order from python 3.6 \r\n",
    "    # onwards so using next line\r\n",
    "    neg,neu,pos,_=scores.values()\r\n",
    "    senti = {neg:\"Negative\",pos:\"Positive\",neu:\"Neutral\"}\r\n",
    "    # get sentiments \r\n",
    "    senti = senti[max(senti.keys())]\r\n",
    "    return {\"scores\":scores,\"sentiment\":senti}\r\n",
    "\r\n",
    "## test\r\n",
    "get_sentiment_and_scores(\"Wow, NLTK is really powerful!\")\r\n"
   ],
   "outputs": [
    {
     "output_type": "execute_result",
     "data": {
      "text/plain": [
       "{'scores': {'neg': 0.0, 'neu': 0.295, 'pos': 0.705, 'compound': 0.8012},\n",
       " 'sentiment': 'Positive'}"
      ]
     },
     "metadata": {},
     "execution_count": 28
    }
   ],
   "metadata": {}
  },
  {
   "cell_type": "code",
   "execution_count": null,
   "source": [
    "## flask app\r\n",
    "app = Flask(__name__)\r\n",
    "\r\n",
    "# route home \r\n",
    "@app.route(\"/\")\r\n",
    "def home():\r\n",
    "    return \"<html><h1>Sentiment Analyzer API</h1></html>\"\r\n",
    "\r\n",
    "# route test to check if active\r\n",
    "@app.route(\"/test\")\r\n",
    "def test_api():\r\n",
    "    return jsonify({\"status\":\"OK\",\"time\":datetime.now()})\r\n",
    "\r\n",
    "# route to predict the sentiment and give scores\r\n",
    "@app.route(\"/predict\", methods=['POST'])\r\n",
    "def predict_sentiment():\r\n",
    "    text = request.json.get(\"text\")\r\n",
    "    return jsonify(get_sentiment_and_scores(text))\r\n",
    "\r\n",
    "if __name__==\"__main__\":\r\n",
    "    app.run(debug=True,port=5000)\r\n"
   ],
   "outputs": [],
   "metadata": {}
  }
 ],
 "metadata": {
  "orig_nbformat": 4,
  "language_info": {
   "name": "python",
   "version": "3.8.7",
   "mimetype": "text/x-python",
   "codemirror_mode": {
    "name": "ipython",
    "version": 3
   },
   "pygments_lexer": "ipython3",
   "nbconvert_exporter": "python",
   "file_extension": ".py"
  },
  "kernelspec": {
   "name": "python3",
   "display_name": "Python 3.8.7 64-bit ('venv': venv)"
  },
  "interpreter": {
   "hash": "d10fb72c842a4dca98e77a876e42cf7a492be8c2df818b258086687f703250de"
  }
 },
 "nbformat": 4,
 "nbformat_minor": 2
}